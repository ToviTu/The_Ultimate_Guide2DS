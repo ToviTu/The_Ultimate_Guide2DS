{
 "cells": [
  {
   "attachments": {},
   "cell_type": "markdown",
   "metadata": {},
   "source": [
    "# Pytorch Function Showcase"
   ]
  },
  {
   "cell_type": "code",
   "execution_count": 18,
   "metadata": {},
   "outputs": [],
   "source": [
    "import torch as tor\n",
    "import numpy as np"
   ]
  },
  {
   "attachments": {},
   "cell_type": "markdown",
   "metadata": {},
   "source": [
    "## Tensor\n",
    "\n",
    "Definition: Tensor is a multi-dimentional array of numerical values, denoted as $k^{th}\\ order\\ tensor$. By default, new tensors are stored in memory for CPU-based computation."
   ]
  },
  {
   "cell_type": "code",
   "execution_count": 19,
   "metadata": {},
   "outputs": [
    {
     "name": "stdout",
     "output_type": "stream",
     "text": [
      "10\n",
      "torch.Size([10])\n",
      "tensor([[0., 1., 2., 3., 4.],\n",
      "        [5., 6., 7., 8., 9.]], dtype=torch.float64)\n",
      "tensor([[0., 1., 2., 3., 4.],\n",
      "        [5., 6., 7., 8., 9.]], dtype=torch.float64)\n"
     ]
    }
   ],
   "source": [
    "# Example\n",
    "\n",
    "# Populate a tensor representing range\n",
    "x = tor.arange(10, dtype=tor.float64)\n",
    "\n",
    "# Get #elements\n",
    "print(x.numel())\n",
    "\n",
    "# Get shape\n",
    "print(x.shape)\n",
    "\n",
    "# Reshape\n",
    "print(x.reshape(2,5))\n",
    "\n",
    "# Reshape with dimension inference\n",
    "print(x.reshape(2, -1))"
   ]
  },
  {
   "attachments": {},
   "cell_type": "markdown",
   "metadata": {},
   "source": [
    "### Indexing & Computation\n",
    "- Similar to Numpy"
   ]
  },
  {
   "attachments": {},
   "cell_type": "markdown",
   "metadata": {},
   "source": [
    "### Memory Handeling\n",
    "Machine learning compuation tend to be memory heavy. By defualt, reusing the same variable name cause extra memory allocation:"
   ]
  },
  {
   "cell_type": "code",
   "execution_count": 20,
   "metadata": {},
   "outputs": [
    {
     "ename": "AssertionError",
     "evalue": "",
     "output_type": "error",
     "traceback": [
      "\u001b[1;31m---------------------------------------------------------------------------\u001b[0m",
      "\u001b[1;31mAssertionError\u001b[0m                            Traceback (most recent call last)",
      "Cell \u001b[1;32mIn[20], line 6\u001b[0m\n\u001b[0;32m      4\u001b[0m before \u001b[39m=\u001b[39m \u001b[39mid\u001b[39m(X)\n\u001b[0;32m      5\u001b[0m X \u001b[39m=\u001b[39m X\u001b[39m+\u001b[39mY\n\u001b[1;32m----> 6\u001b[0m \u001b[39massert\u001b[39;00m \u001b[39mid\u001b[39m(X) \u001b[39m==\u001b[39m before\n",
      "\u001b[1;31mAssertionError\u001b[0m: "
     ]
    }
   ],
   "source": [
    "X = tor.ones(10)\n",
    "Y = tor.zeros((2,1))\n",
    "\n",
    "before = id(X)\n",
    "X = X+Y\n",
    "assert id(X) == before"
   ]
  },
  {
   "attachments": {},
   "cell_type": "markdown",
   "metadata": {},
   "source": [
    "Solution: in-place assignmnet"
   ]
  },
  {
   "cell_type": "code",
   "execution_count": 21,
   "metadata": {},
   "outputs": [],
   "source": [
    "before = id(X)\n",
    "X[:] = X+Y # or X += Y\n",
    "assert before == id(X)"
   ]
  },
  {
   "attachments": {},
   "cell_type": "markdown",
   "metadata": {},
   "source": [
    "### Conversion to Other Class"
   ]
  },
  {
   "cell_type": "code",
   "execution_count": 22,
   "metadata": {},
   "outputs": [
    {
     "data": {
      "text/plain": [
       "1.0"
      ]
     },
     "execution_count": 22,
     "metadata": {},
     "output_type": "execute_result"
    }
   ],
   "source": [
    "# Convert to numpy array\n",
    "X.numpy()\n",
    "\n",
    "# Convert from numpy array\n",
    "tor.from_numpy(np.zeros(10))\n",
    "\n",
    "# Convert to Python scalar\n",
    "X[0,0].item()"
   ]
  },
  {
   "attachments": {},
   "cell_type": "markdown",
   "metadata": {},
   "source": [
    "## Training NN in Jupyter Notebook: An OOP Approach\n",
    "Code implementation in Python can be complex and overtly long. By convention, a NN project code base is divided into **3 modules**: `Module` class contains models, losses and optimization methods; `Data-Module` contains data loaders for training and validation; the former two classes are combined into the `Trainer` module to train on different platforms."
   ]
  },
  {
   "attachments": {},
   "cell_type": "markdown",
   "metadata": {},
   "source": [
    "### Dynamic Attribute Insertion\n",
    "- Allows afterwards method definition"
   ]
  },
  {
   "cell_type": "code",
   "execution_count": 25,
   "metadata": {},
   "outputs": [
    {
     "name": "stdout",
     "output_type": "stream",
     "text": [
      "My a is 1\n"
     ]
    }
   ],
   "source": [
    "def add_to_class(Class):\n",
    "    def wrapper(obj):\n",
    "        setattr(Class, obj.__name__, obj)\n",
    "    return wrapper\n",
    "\n",
    "class A:\n",
    "    def __init__(self):\n",
    "        self.a = 1\n",
    "\n",
    "a = A()\n",
    "\n",
    "@add_to_class(A)\n",
    "def say_a(self): print(f'My a is {self.a}')\n",
    "\n",
    "a.say_a()"
   ]
  },
  {
   "attachments": {},
   "cell_type": "markdown",
   "metadata": {},
   "source": [
    "### Hyperparameter Auto-saving\n",
    "-  Save all __init__ parameter as class attributes"
   ]
  },
  {
   "cell_type": "code",
   "execution_count": 26,
   "metadata": {},
   "outputs": [],
   "source": [
    "class HyperPrameters:\n",
    "    def save_hyperparameters(self, ignore=[]):\n",
    "        raise NotImplemented"
   ]
  },
  {
   "attachments": {},
   "cell_type": "markdown",
   "metadata": {},
   "source": [
    "### Progress Board\n",
    "- Diaplay a live animation showing training progress"
   ]
  },
  {
   "cell_type": "code",
   "execution_count": 27,
   "metadata": {},
   "outputs": [],
   "source": [
    "class ProgressBoard(HyperPrameters):\n",
    "    def __init__(self, xlabel=None, ylabel=None, xlim=None, ylim=None, xscale='linear', yscale='linear'):\n",
    "        self.save_hyperparameters()\n",
    "    def draw(self, x, y, label, every_n=1):\n",
    "        raise NotImplemented"
   ]
  },
  {
   "cell_type": "code",
   "execution_count": null,
   "metadata": {},
   "outputs": [],
   "source": []
  }
 ],
 "metadata": {
  "kernelspec": {
   "display_name": "ml_general",
   "language": "python",
   "name": "python3"
  },
  "language_info": {
   "codemirror_mode": {
    "name": "ipython",
    "version": 3
   },
   "file_extension": ".py",
   "mimetype": "text/x-python",
   "name": "python",
   "nbconvert_exporter": "python",
   "pygments_lexer": "ipython3",
   "version": "3.10.11"
  },
  "orig_nbformat": 4
 },
 "nbformat": 4,
 "nbformat_minor": 2
}
