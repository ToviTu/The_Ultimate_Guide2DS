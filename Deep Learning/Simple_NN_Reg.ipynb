{
 "cells": [
  {
   "attachments": {},
   "cell_type": "markdown",
   "metadata": {},
   "source": [
    "## Depth-1 Neural Network for Classical Linear Regression\n",
    "\n",
    "The classical linear regression admits an observed matrix of random variable $X$ and the corresponding vector of random variable $Y$. The model assumes that $\\vec{x_i}$ for $i = 1...p$ in $X\\in R^{n\\times p}$ are iid. normally distributed, and the conditional mean of $Y$ depends on $X$ has a linear relationship with some parameters. Namely,\n",
    "\n",
    "$$\n",
    "    E[Y|X=x] = \\hat{Y} = Xw + b\n",
    "$$\n",
    "\n",
    "where $w$ and $b$ are unknown."
   ]
  },
  {
   "attachments": {},
   "cell_type": "markdown",
   "metadata": {},
   "source": [
    "## Loss Function\n",
    "\n",
    "The common loss function for linear regression is squared $L^2$ Norm which quantifies the distance between two surfaces. \n",
    "$$\n",
    "L(w,b) = \\sum_{i\\in[n]}(\\hat{y}-y)^2 = ||\\hat{Y} - Y||^2_2"
   ]
  },
  {
   "attachments": {},
   "cell_type": "markdown",
   "metadata": {},
   "source": [
    "Note that, unlike most models, linear regression has an analytical solutions:\n",
    "$$\n",
    "w^* = (X^TX)^{-1}X^TY\n",
    "$$"
   ]
  },
  {
   "attachments": {},
   "cell_type": "markdown",
   "metadata": {},
   "source": [
    "## Minibatch Optimization\n",
    "Both GD and SGD algorithm have notable drawbacks in practial application. The intermediate approach, minibatch SGD, is often used. Let $B$ be a fixed number of training samples, define the update rule to be:\n",
    "$$\n",
    "w_{t+1} = w_t - \\frac{\\eta}{|B_t|}\\sum_{i\\in B_t}\\partial_{w_t}l^{(i)}(w,b)"
   ]
  },
  {
   "attachments": {},
   "cell_type": "markdown",
   "metadata": {},
   "source": [
    "Remark: Based on the normality assumption of the data, we can deduce that the Maximum Likelihood Method is equivalent to Minimizing the Squared Loss if we omit the nuissance parameter $\\sigma^2$."
   ]
  },
  {
   "cell_type": "markdown",
   "metadata": {},
   "source": []
  }
 ],
 "metadata": {
  "language_info": {
   "name": "python"
  },
  "orig_nbformat": 4
 },
 "nbformat": 4,
 "nbformat_minor": 2
}
