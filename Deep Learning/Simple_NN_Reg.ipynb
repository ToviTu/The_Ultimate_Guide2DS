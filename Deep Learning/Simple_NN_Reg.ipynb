{
 "cells": [
  {
   "attachments": {},
   "cell_type": "markdown",
   "metadata": {},
   "source": [
    "## Depth-1 Neural Network for Classical Linear Regression\n",
    "\n",
    "The classical linear regression admits an observed matrix of random variable $X$ and the corresponding vector of random variable $Y$. The model assumes that $\\vec{x_i}$ for $i = 1...p$ in $X\\in R^{n\\times p}$ are iid. normally distributed, and the conditional mean of $Y$ depends on $X$ has a linear relationship with some parameters. Namely,\n",
    "\n",
    "$$\n",
    "    E[Y|X=x] = \\hat{Y} = Xw + b\n",
    "$$\n",
    "\n",
    "where $w$ and $b$ are unknown."
   ]
  },
  {
   "attachments": {},
   "cell_type": "markdown",
   "metadata": {},
   "source": [
    "## Loss Function\n",
    "\n",
    "The common loss function for linear regression is squared $L^2$ Norm which quantifies the distance between two surfaces. \n",
    "$$\n",
    "L(w,b) = \\sum_{i\\in[n]}(\\hat{y_i}-y_i)^2 = ||\\hat{Y} - Y||^2_2"
   ]
  },
  {
   "attachments": {},
   "cell_type": "markdown",
   "metadata": {},
   "source": [
    "Note that, unlike most models, linear regression has an analytical solutions:\n",
    "$$\n",
    "w^* = (X^TX)^{-1}X^TY\n",
    "$$"
   ]
  },
  {
   "attachments": {},
   "cell_type": "markdown",
   "metadata": {},
   "source": [
    "## Minibatch Optimization\n",
    "Both GD and SGD algorithm have notable drawbacks in practial application. The intermediate approach, minibatch SGD, is often used. Let $B$ be a fixed number of training samples, define the update rule to be:\n",
    "$$\n",
    "w_{t+1} = w_t - \\frac{\\eta}{|B_t|}\\sum_{i\\in B_t}\\partial_{w_t}l^{(i)}(w,b)"
   ]
  },
  {
   "attachments": {},
   "cell_type": "markdown",
   "metadata": {},
   "source": [
    "Remark: Based on the normality assumption of the data, we can deduce that the Maximum Likelihood Method is equivalent to Minimizing the Squared Loss if we omit the nuissance parameter $\\sigma^2$."
   ]
  },
  {
   "attachments": {},
   "cell_type": "markdown",
   "metadata": {},
   "source": [
    "## Synthesize Toy Data\n",
    "\n",
    "Recall that the actual model in simple linear regression is \n",
    "$$\n",
    "Y = Xw + b + \\epsilon\n",
    "$$\n",
    "where $\\epsilon \\sim N(0, \\sigma)$."
   ]
  },
  {
   "cell_type": "code",
   "execution_count": 32,
   "metadata": {},
   "outputs": [
    {
     "name": "stdout",
     "output_type": "stream",
     "text": [
      "The autoreload extension is already loaded. To reload it, use:\n",
      "  %reload_ext autoreload\n"
     ]
    }
   ],
   "source": [
    "import dl\n",
    "import torch as tor\n",
    "import random\n",
    "from typing import Generator\n",
    "\n",
    "%load_ext autoreload\n",
    "%autoreload 2\n",
    "\n",
    "class ToyRegressionData(dl.DataModule):\n",
    "    def __init__(self, w, b, eps_var=1, num_train=1000, num_val=100, batch_size=32):\n",
    "        super().__init__()\n",
    "        self.save_hyperparameters()\n",
    "        n = num_train + num_val\n",
    "        self.X = tor.randn(n, len(w))\n",
    "        noise = tor.normal(\n",
    "            mean = dl.make_vec_single(0, n),\n",
    "            std = dl.make_vec_single(b, n)\n",
    "        )\n",
    "        self.y = tor.matmul(self.X, w.reshape(-1, 1)) + b + noise.reshape(-1, 1)"
   ]
  },
  {
   "cell_type": "code",
   "execution_count": 33,
   "metadata": {},
   "outputs": [
    {
     "name": "stdout",
     "output_type": "stream",
     "text": [
      "torch.Size([32, 3])\n",
      "torch.Size([32, 1])\n"
     ]
    }
   ],
   "source": [
    "# Example\n",
    "\n",
    "d = ToyRegressionData(w=tor.tensor([1,2,3], dtype=tor.float32), b=4)\n",
    "[print(item.shape) for item in next(d.get_dataloader())];"
   ]
  },
  {
   "attachments": {},
   "cell_type": "markdown",
   "metadata": {},
   "source": [
    "## Model Definition\n",
    "Any pyroch deep learning model should be a subclass of `Module` class. Tree basic definition should be implemented\\overwritten by the actual model:\n",
    "- `__init__` method initializes the weight appropirately\n",
    "- `forward` method defines the network architecture\n",
    "- `loss` method computes the current loss"
   ]
  },
  {
   "cell_type": "code",
   "execution_count": 34,
   "metadata": {},
   "outputs": [],
   "source": [
    "class LinearRegression(dl.Module):\n",
    "    def __init__(self, P, eta, sigma=0.01):\n",
    "        super().__init__()\n",
    "        self.save_hyperparameters()\n",
    "\n",
    "        self.w = tor.normal(0, sigma, (P, 1), requires_grad=True)\n",
    "        self.b = tor.zeros(1, requires_grad=True)\n",
    "    \n",
    "    def forward(self, X):\n",
    "        return tor.matmul(X, self.w) + self.b\n",
    "    \n",
    "    def loss(self, y_hat, y):\n",
    "        l = (y_hat - y) ** 2\n",
    "        return l.mean()"
   ]
  },
  {
   "attachments": {},
   "cell_type": "markdown",
   "metadata": {},
   "source": [
    "## Optimizer Definition\n",
    "An optimizer is the implementation of the optimization algorithm. It is a subclass of `HyperParameter` class. The `configure_optimizer` method in `Module` class adjust the optimizer appropriately. Note that gradient calculation is achieved through the built-in `TORCH.autograd` function and no explicit form is required."
   ]
  },
  {
   "cell_type": "code",
   "execution_count": 35,
   "metadata": {},
   "outputs": [],
   "source": [
    "class SGD(dl.HyperPrameters):\n",
    "    def __init__(self, params, eta):\n",
    "        self.save_hyperparameters()\n",
    "\n",
    "    def step(self):\n",
    "        for param in self.params:\n",
    "            param -= self.eta * param.grad\n",
    "        \n",
    "    def zero_grad(self):\n",
    "        for param in self.params:\n",
    "            if param.grad is not None:\n",
    "                param.grad.zero_()\n",
    "\n",
    "@dl.add_to_class(LinearRegression)\n",
    "def configure_optimizers(self):\n",
    "    return SGD([self.w, self.b], self.eta)"
   ]
  },
  {
   "attachments": {},
   "cell_type": "markdown",
   "metadata": {},
   "source": [
    "## Training Module\n",
    "\n",
    "With initial parameters, loss function, model, and optimizer, we can now implement the iterative training process. **Epoch** is a hyperparameter specifying how many times the entire dataset is fed into the model (since data points are passed in the form of mini batch)."
   ]
  },
  {
   "cell_type": "code",
   "execution_count": 36,
   "metadata": {},
   "outputs": [
    {
     "name": "stdout",
     "output_type": "stream",
     "text": [
      "Automatic pdb calling has been turned ON\n"
     ]
    }
   ],
   "source": [
    "@dl.add_to_class(dl.Trainer)\n",
    "def prepare_batch(self, batch):\n",
    "    return batch\n",
    "\n",
    "@dl.add_to_class(dl.Trainer)\n",
    "def fit_epoch(self):\n",
    "    #self.model.train()\n",
    "    for batch in self.train_dataloader:\n",
    "        loss = self.model.training_step(self.prepare_batch(batch))\n",
    "        self.optim.zero_grad()\n",
    "        with tor.no_grad():\n",
    "            loss.backward()\n",
    "            self.optim.step()\n",
    "        self.train_loss.append(loss.item())\n",
    "%pdb"
   ]
  },
  {
   "cell_type": "code",
   "execution_count": 37,
   "metadata": {},
   "outputs": [],
   "source": [
    "# Train the model\n",
    "model = LinearRegression(3, 0.1)\n",
    "data = ToyRegressionData(\n",
    "    w = tor.tensor([[1], [2], [3]], dtype=tor.float32),\n",
    "    b = 1\n",
    ")\n",
    "trainer = dl.Trainer(max_epochs=10)\n",
    "trainer.fit(model, data)"
   ]
  },
  {
   "cell_type": "code",
   "execution_count": 38,
   "metadata": {},
   "outputs": [
    {
     "data": {
      "text/plain": [
       "[tensor([[0.8803],\n",
       "         [1.9509],\n",
       "         [3.0481]], requires_grad=True),\n",
       " tensor([1.0192], requires_grad=True)]"
      ]
     },
     "execution_count": 38,
     "metadata": {},
     "output_type": "execute_result"
    }
   ],
   "source": [
    "# Parameters after training\n",
    "trainer.optim.params"
   ]
  },
  {
   "cell_type": "code",
   "execution_count": 39,
   "metadata": {},
   "outputs": [
    {
     "data": {
      "text/plain": [
       "array([[0.91938459],\n",
       "       [1.98886548],\n",
       "       [3.02409584],\n",
       "       [0.99699017]])"
      ]
     },
     "execution_count": 39,
     "metadata": {},
     "output_type": "execute_result"
    }
   ],
   "source": [
    "# The analytical solution to linear regression\n",
    "import numpy as np\n",
    "\n",
    "X = data.X.numpy()\n",
    "Y = data.y.numpy()\n",
    "\n",
    "X = np.concatenate((X, np.ones((X.shape[0], 1))), axis=1)\n",
    "np.linalg.inv(X.T@X)@X.T@Y"
   ]
  },
  {
   "attachments": {},
   "cell_type": "markdown",
   "metadata": {},
   "source": [
    "Loss of the SGD algorithm"
   ]
  },
  {
   "cell_type": "code",
   "execution_count": 40,
   "metadata": {},
   "outputs": [
    {
     "data": {
      "image/png": "[encoded data removed]",
      "text/plain": [
       "<Figure size 600x400 with 1 Axes>"
      ]
     },
     "metadata": {},
     "output_type": "display_data"
    }
   ],
   "source": [
    "trainer.plot_loss()"
   ]
  },
  {
   "cell_type": "code",
   "execution_count": null,
   "metadata": {},
   "outputs": [],
   "source": []
  }
 ],
 "metadata": {
  "kernelspec": {
   "display_name": "ml_general",
   "language": "python",
   "name": "python3"
  },
  "language_info": {
   "codemirror_mode": {
    "name": "ipython",
    "version": 3
   },
   "file_extension": ".py",
   "mimetype": "text/x-python",
   "name": "python",
   "nbconvert_exporter": "python",
   "pygments_lexer": "ipython3",
   "version": "3.10.11"
  },
  "orig_nbformat": 4
 },
 "nbformat": 4,
 "nbformat_minor": 2
}
