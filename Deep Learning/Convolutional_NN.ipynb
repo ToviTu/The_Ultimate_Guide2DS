{
 "cells": [
  {
   "attachments": {},
   "cell_type": "markdown",
   "metadata": {},
   "source": [
    "# Convolutional Neural Networks\n",
    "\n",
    "Neural networks on image processing tasks are not realisitic due to the 2D representation of digital image and the massive amount of neurons/weights in a fully connected network. Also, the structual knowledge has not been taken advantage of by the conventional MLP, which treats pixels separately. **CNN** prorvides a concise way to learn a relatively computationally inexpensive representation of an image and incorporates the interatcion between adjacent pixels, turning the image classification task into a linear-solvable problem. CNN layer is the earliest layer of a network and should follow 3 principals.\n",
    "1. *Translation Invariance*: the layer should respond similarly to the same patch of pixels (features) regardless of the location.\n",
    "2. *Locality*: the layer should focus on local regions not regarding remote patches.\n",
    "3. Deeper layer should capture features across long-range. "
   ]
  },
  {
   "attachments": {},
   "cell_type": "markdown",
   "metadata": {},
   "source": [
    "## Model Derivation\n",
    "Let $X\\in R^2$ be a 2D image and $H\\in2$ be the representation matrix of the same shape. By tensor convention, $[X]_{i,j}$ and $[H]_{i,j}$ denote the pixel at location (i,j). In a fully connected network, the relationship between 2 matrices can be expressed as \n",
    "$$\n",
    "[H]_{i,j} = [U]_{i,j} + \\sum_a\\sum_b[V]_{i,j,a,b}[X]_{i+a,j+b}\n",
    "$$\n",
    "where $U$ is the bias matrix and V is a 4D tensor. "
   ]
  },
  {
   "attachments": {},
   "cell_type": "markdown",
   "metadata": {},
   "source": [
    "### Translation Invariance\n",
    "\n",
    "Since the layer should not vary by the location (i, j), we should have $[V]_{i,j,a,b}=[V]_{a,b}$ and same for $U$.\n",
    "$$\n",
    "[H]_{i,j} = u + \\sum_a\\sum_b[V]_{a,b}[X]_{i+a,j+b}\n",
    "$$"
   ]
  },
  {
   "attachments": {},
   "cell_type": "markdown",
   "metadata": {},
   "source": [
    "### Locality\n",
    "\n",
    "The layer shoud disregard features far away from (i,j). For some $\\Delta\\in\\mathbb{R}$, let $[V]_{a,b}=0$ for $|a|,|b|>\\Delta$.\n",
    "$$\n",
    "[H]_{i,j} = u + \\sum_{a=-\\Delta}^\\Delta\\sum_{b=-\\Delta}^\\Delta[V]_{a,b}[X]_{i+a,j+b}\n",
    "$$\n",
    "where $\\Delta$ is typically smaller than 10 in image processing context.\n",
    "\n",
    "This is called a **convolutional layer** and $V$ is the **convolutional kernel**. After transformation, we introduces translation invariance and inductive bias into the training data. Such assumption should be met in order to achieve good training results. By the 3rd principle, deeper layers tend to be interleaved layers of nonlinearities and convolutional layers to generate more complex and larger representation of the image."
   ]
  },
  {
   "attachments": {},
   "cell_type": "markdown",
   "metadata": {},
   "source": [
    "**Remark**\n",
    "The derivation of a convolutional layer does not fully comply to the definition of *convolution*. Rather, it resembles a *cross-correlation*."
   ]
  },
  {
   "attachments": {},
   "cell_type": "markdown",
   "metadata": {},
   "source": [
    "## Channels\n",
    "\n",
    "Each \"pixel\" tend to be represented by 3 color channels, thus being a vector. Instead of $[X]_{i,j}$, we have $[X]_{i,j,k}$ and $[U]_{i,j,k}$, with an extra index for the multidimension data. The hidden representation can be conceived as convolutional maps being stack together, aka **feature maps**. \n",
    "\n",
    "$$\n",
    "[H]_{i,j,d} = u + \\sum_{a=-\\Delta}^\\Delta\\sum_{b=-\\Delta}^\\Delta\\sum_c[V]_{a,b,c,d}[X]_{i+a,j+b,c}\n",
    "$$\n",
    "\n",
    "Each feature map can be specialized to capture different representations, like edge and textures."
   ]
  },
  {
   "attachments": {},
   "cell_type": "markdown",
   "metadata": {},
   "source": [
    "## Feature Map & Receptive Field\n",
    "\n",
    "Feature map refers the output of a convolutional layer, while the receptive field refers to any element from the previous layer that has an impact on a single input of this layer."
   ]
  },
  {
   "attachments": {},
   "cell_type": "markdown",
   "metadata": {},
   "source": [
    "## Padding\n",
    "\n",
    "The size of a convolutional kernel has an impace on the output matrix, thus the prediction might not have the same shape as the original image. This is undesirable since we intend to say something on the original image. **Padding** is the common solution to manipulate the output dimension.\n",
    "\n",
    "The output dimension is calculated as:\n",
    "$$\n",
    "(n_h-k_h+p_h+1)\\times(n_w-k_w+p_w+1)\n",
    "$$\n",
    "in many cases, we set $p_h=k_h-1$ and $p_w=k_w-1$ to retain the original dimention. For this reason, CNN commonly use kernels with odd height and width values to pad same number of rows and columns around the image."
   ]
  },
  {
   "attachments": {},
   "cell_type": "markdown",
   "metadata": {},
   "source": [
    "## Stride\n",
    "\n",
    "Stride is the number of steps taken by the sliding window function to compute the cross-correlation. Opposite to padding, stride effectively reduces the dimension of the output matrix. It is useful for giant image to save computation power.\n",
    "\n",
    "The output dimension combing both stride and padding is:\n",
    "$$\n",
    "\\lfloor(n_h-k_h+p_h+s_h)/s_h\\rfloor\\times\\lfloor(n_w-k_w+p_w+s_w)/s_w\\rfloor\n",
    "$$\n",
    "\n"
   ]
  },
  {
   "attachments": {},
   "cell_type": "markdown",
   "metadata": {},
   "source": [
    "## Multiple Output Channel\n",
    "The actual input may be 3D or more rather than simly 2D. In this case the dimension may be $c_i \\times h_X\\times w_X$, with $c$ being the vector representation of the individual pixel. The convolutional layer can take advantage of the vector representation to output multiple feature maps, thus having dimension of $c_o \\times c_i \\times h_k \\times w_k$. \n",
    "\n",
    "For each single output feature map, the convolution layer is applied to each input channel and linear aggregate the results to one feature map. For multiple-input-output feature map, this process is repeated for $c_o$ times with different parameters. \n",
    "\n",
    "The multiple output channels can be intuitively interpreted as different features."
   ]
  },
  {
   "attachments": {},
   "cell_type": "markdown",
   "metadata": {},
   "source": [
    "## Pooling \n",
    "\n",
    "Convolutional layers yields coarser representation as it deepens, and can be very sensitive to the locations. To mitigate these effects, pooling is introduced. Pooling similarly uses the idea of sliding window but contains no parameter. Instead, it either computes average or maximum like image downsampling technique. "
   ]
  },
  {
   "attachments": {},
   "cell_type": "markdown",
   "metadata": {},
   "source": [
    "## Code Realization\n",
    "### Cross-Correlation 2D"
   ]
  },
  {
   "cell_type": "code",
   "execution_count": 1,
   "metadata": {},
   "outputs": [
    {
     "data": {
      "text/plain": [
       "tensor([[19.]])"
      ]
     },
     "execution_count": 1,
     "metadata": {},
     "output_type": "execute_result"
    }
   ],
   "source": [
    "import torch\n",
    "\n",
    "def corr2d(X, K, stride=(1,1)):\n",
    "    h,w = K.shape\n",
    "    Y = torch.zeros((X.shape[0]-h+stride[0])//stride[0], (X.shape[1]-w+stride[1])//stride[1])\n",
    "    for i in range(0, Y.shape[0]):\n",
    "        for j in range(0, Y.shape[1]):\n",
    "            Y[i,j] = (X[stride[0]*i:h+stride[0]*i, stride[1]*j:stride[1]*j+w] * K).sum()\n",
    "    return Y\n",
    "\n",
    "#Test\n",
    "X = torch.tensor(\n",
    "    [\n",
    "        [0, 1, 2],\n",
    "        [3, 4, 5],\n",
    "        [6, 7, 8]\n",
    "    ]\n",
    ")\n",
    "\n",
    "K = torch.tensor(\n",
    "    [\n",
    "        [0, 1],\n",
    "        [2, 3]\n",
    "    ]\n",
    ")\n",
    "\n",
    "corr2d(X, K, (2,2))"
   ]
  },
  {
   "attachments": {},
   "cell_type": "markdown",
   "metadata": {},
   "source": [
    "### Cross-correlation with Multiple Input Channels"
   ]
  },
  {
   "cell_type": "code",
   "execution_count": 2,
   "metadata": {},
   "outputs": [
    {
     "name": "stdout",
     "output_type": "stream",
     "text": [
      "Shape of 1-output Conv: torch.Size([9, 9])\n",
      "Shape of multiple-output Conv: torch.Size([3, 9, 9])\n"
     ]
    }
   ],
   "source": [
    "# pay attention to the way tensors are ordered\n",
    "\n",
    "def corr2d_multi_in(X, K):\n",
    "    return sum(corr2d(x,k) for x,k in zip(X,K))\n",
    "\n",
    "def corr2d_multi_in_out(X, K):\n",
    "    return torch.stack([corr2d_multi_in(X, k) for k in K])\n",
    "\n",
    "# Test\n",
    "X = torch.randint(0, 10, (3, 10, 10))\n",
    "K = torch.randint(0, 5, (3, 2, 2))\n",
    "K_mult = torch.randint(0, 5, (3, 3, 2, 2))\n",
    "print(f\"Shape of 1-output Conv: {corr2d_multi_in(X, K).shape}\")\n",
    "print(f\"Shape of multiple-output Conv: {corr2d_multi_in_out(X, K_mult).shape}\")"
   ]
  },
  {
   "attachments": {},
   "cell_type": "markdown",
   "metadata": {},
   "source": [
    "### Pooling"
   ]
  },
  {
   "cell_type": "code",
   "execution_count": 3,
   "metadata": {},
   "outputs": [
    {
     "data": {
      "text/plain": [
       "tensor([[0.5000, 0.7500, 0.7500, 0.5000, 0.7500, 0.5000, 0.2500, 0.5000, 0.2500],\n",
       "        [0.5000, 0.5000, 0.7500, 0.5000, 0.2500, 0.2500, 0.2500, 0.5000, 0.5000],\n",
       "        [0.5000, 0.2500, 0.2500, 0.2500, 0.2500, 0.5000, 0.5000, 0.5000, 0.5000],\n",
       "        [0.2500, 0.5000, 0.2500, 0.0000, 0.2500, 0.5000, 0.7500, 0.5000, 0.2500],\n",
       "        [0.5000, 0.5000, 0.2500, 0.2500, 0.2500, 0.0000, 0.2500, 0.2500, 0.5000],\n",
       "        [1.0000, 0.5000, 0.0000, 0.2500, 0.2500, 0.2500, 0.5000, 0.5000, 0.5000],\n",
       "        [0.5000, 0.2500, 0.2500, 0.5000, 0.5000, 0.5000, 0.5000, 0.7500, 0.7500],\n",
       "        [0.2500, 0.5000, 0.5000, 0.5000, 0.5000, 0.2500, 0.2500, 0.5000, 0.7500],\n",
       "        [0.5000, 1.0000, 0.5000, 0.2500, 0.5000, 0.2500, 0.2500, 0.2500, 0.5000]])"
      ]
     },
     "execution_count": 3,
     "metadata": {},
     "output_type": "execute_result"
    }
   ],
   "source": [
    "def pool2d(X, pool_size, mode='max'):\n",
    "    h,w = pool_size\n",
    "    Y = torch.zeros(X.shape[0]-h+1, X.shape[1]-w+1)\n",
    "    for i in range(Y.shape[0]):\n",
    "        for j in range(Y.shape[1]):\n",
    "            if mode == 'max':\n",
    "                Y[i,j] = X[i:i+h, j:j+w].max()\n",
    "            else:\n",
    "                Y[i,j] = X[i:i+h, j:j+w].mean()\n",
    "    return Y\n",
    "\n",
    "X = torch.randint(0,2,(10,10), dtype=float)\n",
    "pool2d(X, (2,2), mode='avg')"
   ]
  },
  {
   "attachments": {},
   "cell_type": "markdown",
   "metadata": {},
   "source": [
    "### Convolutional Layers\n"
   ]
  },
  {
   "cell_type": "code",
   "execution_count": 4,
   "metadata": {},
   "outputs": [],
   "source": [
    "from torch import nn\n",
    "\n",
    "class Conv2D(nn.Module):\n",
    "    def __init__(self, kernel_size):\n",
    "        super().__init__()\n",
    "        self.weight = nn.Parameter(torch.rand(kernel_size))\n",
    "        self.bias = nn.Parameter(torch.zeros(1))\n",
    "    \n",
    "    def forward(self, x):\n",
    "        return corr2d(x, self.weight) + self.bias"
   ]
  },
  {
   "attachments": {},
   "cell_type": "markdown",
   "metadata": {},
   "source": [
    "### Example: Naive Edge Detection\n",
    "\n",
    "Let $X$ be an image of an object, we wish to detect the vertical edge of the object. We first manually label the edges and then train a network with only a convolutional layer."
   ]
  },
  {
   "cell_type": "code",
   "execution_count": 5,
   "metadata": {},
   "outputs": [
    {
     "data": {
      "text/plain": [
       "tensor([[0., 0., 0., 1., 1., 1., 0., 0., 0.],\n",
       "        [0., 0., 0., 1., 1., 1., 0., 0., 0.],\n",
       "        [0., 0., 0., 1., 1., 1., 0., 0., 0.],\n",
       "        [0., 0., 0., 1., 1., 1., 0., 0., 0.],\n",
       "        [0., 0., 0., 1., 1., 1., 0., 0., 0.]])"
      ]
     },
     "execution_count": 5,
     "metadata": {},
     "output_type": "execute_result"
    }
   ],
   "source": [
    "con = Conv2D((1,3))\n",
    "X = torch.tensor([\n",
    "    [0, 1, 1, 1, 0],\n",
    "    [0, 1, 1, 1, 0],\n",
    "    [0, 1, 1, 1, 0],\n",
    "    [0, 1, 1, 1, 0],\n",
    "    [0, 1, 1, 1, 0]\n",
    "])\n",
    "\n",
    "def pad(X, pad_shape):\n",
    "    Y = torch.zeros(X.shape[0] + pad_shape[0] * 2, X.shape[1] + pad_shape[1]*2)\n",
    "    Y[pad_shape[0]:pad_shape[0]+X.shape[0], pad_shape[1]:pad_shape[1]+X.shape[0]] = X\n",
    "    return Y\n",
    "\n",
    "pad(X, (0,2))"
   ]
  },
  {
   "cell_type": "code",
   "execution_count": 6,
   "metadata": {},
   "outputs": [],
   "source": [
    "#Y = corr2d(pad(X,(0,1)), torch.tensor([[0,1,0]]))\n",
    "Y = torch.zeros(5,5)\n",
    "Y[:,0] = 1\n",
    "Y[:,-1] = 1"
   ]
  },
  {
   "cell_type": "code",
   "execution_count": 7,
   "metadata": {},
   "outputs": [
    {
     "name": "stdout",
     "output_type": "stream",
     "text": [
      "loss: 25.25831413269043\n",
      "loss: 2.728872776031494\n",
      "loss: 0.6431670188903809\n",
      "loss: 0.23694980144500732\n",
      "loss: 0.12538889050483704\n"
     ]
    },
    {
     "data": {
      "text/plain": [
       "Parameter containing:\n",
       "tensor([[ 0.1465, -1.0231,  0.1465]], requires_grad=True)"
      ]
     },
     "execution_count": 7,
     "metadata": {},
     "output_type": "execute_result"
    }
   ],
   "source": [
    "for i in range(50):\n",
    "    Y_hat = con(pad(X, (0,1)))\n",
    "    l = (Y_hat - Y)**2\n",
    "    con.zero_grad()\n",
    "    l.sum().backward()\n",
    "    con.weight.data[:] -= 0.01 * con.weight.grad\n",
    "    con.bias.data[:] -= 0.01 * con.bias.grad\n",
    "\n",
    "    if i%10 == 0:\n",
    "        print(f\"loss: {l.sum()}\")\n",
    "con.weight"
   ]
  },
  {
   "cell_type": "code",
   "execution_count": 8,
   "metadata": {},
   "outputs": [
    {
     "data": {
      "text/plain": [
       "tensor([[ 0.9763, -0.0468,  0.0997, -0.0468,  0.9763],\n",
       "        [ 0.9763, -0.0468,  0.0997, -0.0468,  0.9763],\n",
       "        [ 0.9763, -0.0468,  0.0997, -0.0468,  0.9763],\n",
       "        [ 0.9763, -0.0468,  0.0997, -0.0468,  0.9763],\n",
       "        [ 0.9763, -0.0468,  0.0997, -0.0468,  0.9763]], grad_fn=<AddBackward0>)"
      ]
     },
     "execution_count": 8,
     "metadata": {},
     "output_type": "execute_result"
    }
   ],
   "source": [
    "con(pad(X, (0,1)))"
   ]
  },
  {
   "attachments": {},
   "cell_type": "markdown",
   "metadata": {},
   "source": [
    "After 20 rounds of optimization, we observe that the final result is close to what intend to learn."
   ]
  },
  {
   "attachments": {},
   "cell_type": "markdown",
   "metadata": {},
   "source": [
    "### Proof of Concept: LeNet"
   ]
  },
  {
   "cell_type": "code",
   "execution_count": 9,
   "metadata": {},
   "outputs": [],
   "source": [
    "import dl\n",
    "import torchvision\n",
    "from torchvision.transforms import ToTensor\n",
    "\n",
    "class fashionMNISTLoader(dl.DataModule):\n",
    "    def __init__(self, batch_size=32):\n",
    "        self.save_hyperparameters()\n",
    "        super().__init__()\n",
    "        \n",
    "    def get_dataloader(self, train=True):\n",
    "        if train:\n",
    "            data = torchvision.datasets.FashionMNIST(root='./', train=True, transform=ToTensor())\n",
    "        else:\n",
    "            data = torchvision.datasets.FashionMNIST(root='./', train=False, transform=ToTensor())\n",
    "        self.num_trian = len(data)\n",
    "        loader = torch.utils.data.DataLoader(data, batch_size=self.batch_size)\n",
    "        for X,y in loader:\n",
    "            yield X, y\n"
   ]
  },
  {
   "cell_type": "code",
   "execution_count": 10,
   "metadata": {},
   "outputs": [],
   "source": [
    "class LeNet(dl.Module):\n",
    "    def __init__(self, eta=0.1, num_classes=10):\n",
    "        super().__init__()\n",
    "        self.save_hyperparameters()\n",
    "        self.net = nn.Sequential(\n",
    "            nn.Conv2d(1,6, kernel_size=5, padding=2), nn.Sigmoid(),\n",
    "            nn.MaxPool2d(kernel_size=2, stride=2),\n",
    "            nn.Conv2d(6, 16, kernel_size=5), nn.Sigmoid(),\n",
    "            nn.MaxPool2d(kernel_size=2, stride=2),\n",
    "            nn.Flatten(),\n",
    "            nn.Linear(400, 120), nn.Sigmoid(),\n",
    "            nn.Linear(120, 84), nn.Sigmoid(),\n",
    "            nn.Linear(84, num_classes)\n",
    "        )\n",
    "\n",
    "        for each in self.net:\n",
    "            if type(each) == nn.Linear or type(each) == nn.Conv2d:\n",
    "                nn.init.xavier_normal_(each.weight)\n",
    "    \n",
    "    def configure_optimizers(self):\n",
    "        return dl.SGD(\n",
    "            [module.weight for module in self.net if type(module) in [nn.Conv2d, nn.Linear]],\n",
    "            self.eta\n",
    "        )\n",
    "\n",
    "    def loss(self, y_hat, y):\n",
    "        return nn.functional.cross_entropy(y_hat, y)"
   ]
  },
  {
   "cell_type": "code",
   "execution_count": 11,
   "metadata": {},
   "outputs": [],
   "source": [
    "trainer = dl.Trainer(max_epochs=10)\n",
    "data = fashionMNISTLoader(batch_size=32)\n",
    "model = LeNet()\n",
    "trainer.fit(model, data)"
   ]
  },
  {
   "cell_type": "code",
   "execution_count": 12,
   "metadata": {},
   "outputs": [
    {
     "data": {
      "image/png": "[encoded data removed]",
      "text/plain": [
       "<Figure size 600x400 with 1 Axes>"
      ]
     },
     "metadata": {},
     "output_type": "display_data"
    }
   ],
   "source": [
    "trainer.plot_loss()"
   ]
  },
  {
   "cell_type": "code",
   "execution_count": 13,
   "metadata": {},
   "outputs": [],
   "source": [
    "data = torchvision.datasets.FashionMNIST(root='./', train=False, transform=ToTensor())\n",
    "loader = torch.utils.data.DataLoader(data, batch_size=1000)"
   ]
  },
  {
   "cell_type": "code",
   "execution_count": 14,
   "metadata": {},
   "outputs": [
    {
     "name": "stdout",
     "output_type": "stream",
     "text": [
      "0.868\n",
      "0.868\n",
      "0.856\n",
      "0.842\n",
      "0.855\n",
      "0.827\n",
      "0.849\n",
      "0.857\n",
      "0.84\n",
      "0.854\n"
     ]
    }
   ],
   "source": [
    "for X,y in loader:\n",
    "    print(\n",
    "        (model(X).argmax(axis=1) == y).numpy().mean()\n",
    "    )"
   ]
  },
  {
   "cell_type": "code",
   "execution_count": null,
   "metadata": {},
   "outputs": [],
   "source": []
  }
 ],
 "metadata": {
  "kernelspec": {
   "display_name": "ml_general",
   "language": "python",
   "name": "python3"
  },
  "language_info": {
   "codemirror_mode": {
    "name": "ipython",
    "version": 3
   },
   "file_extension": ".py",
   "mimetype": "text/x-python",
   "name": "python",
   "nbconvert_exporter": "python",
   "pygments_lexer": "ipython3",
   "version": "3.10.11"
  },
  "orig_nbformat": 4
 },
 "nbformat": 4,
 "nbformat_minor": 2
}
