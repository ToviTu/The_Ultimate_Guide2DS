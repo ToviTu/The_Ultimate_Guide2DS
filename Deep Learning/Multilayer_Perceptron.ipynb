{
 "cells": [
  {
   "attachments": {},
   "cell_type": "markdown",
   "metadata": {},
   "source": [
    "# Multilayer Perceptron\n",
    "\n",
    "A multilayer perceptron is the first *deep* neural network. Simple linear models assume a linear relationship between the observation and the target. However, this is a strong assumption and it is not true in many case. Though, many problems, through manual feature transformation, can be solved by linear methods, the exact transformation is often not known. **Deep neural network** overcomes these 2 problems through **representation learning** and **non-linear transformation**. The model first learns to convert to features to a linear problem then sovle it in a linear fashion."
   ]
  },
  {
   "attachments": {},
   "cell_type": "markdown",
   "metadata": {},
   "source": [
    "A multiplayer perceptron (MLP) has $L$ fully-connected layers. The first $L-1$ layers can be seen as the representation and the final layer is the linear predictor. **Non-linear activation** functions introduce non-linearity into the model."
   ]
  },
  {
   "cell_type": "markdown",
   "metadata": {},
   "source": []
  }
 ],
 "metadata": {
  "language_info": {
   "name": "python"
  },
  "orig_nbformat": 4
 },
 "nbformat": 4,
 "nbformat_minor": 2
}
